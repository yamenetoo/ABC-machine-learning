{
  "nbformat": 4,
  "nbformat_minor": 0,
  "metadata": {
    "colab": {
      "provenance": [],
      "authorship_tag": "ABX9TyNSNaGze1JrUyILIy2BMb9h",
      "include_colab_link": true
    },
    "kernelspec": {
      "name": "ir",
      "display_name": "R"
    },
    "language_info": {
      "name": "R"
    }
  },
  "cells": [
    {
      "cell_type": "markdown",
      "metadata": {
        "id": "view-in-github",
        "colab_type": "text"
      },
      "source": [
        "<a href=\"https://colab.research.google.com/github/yamenetoo/ABC-machine-learning/blob/main/Hello%2C_World!.ipynb\" target=\"_parent\"><img src=\"https://colab.research.google.com/assets/colab-badge.svg\" alt=\"Open In Colab\"/></a>"
      ]
    },
    {
      "cell_type": "markdown",
      "source": [
        "# Welcome to ***Python*** and ***R*** Notebook!\n",
        "\n",
        "In this notebook, we will guide you on setting up your Python environment and installing some essential packages for this course.\n",
        "\n",
        "## Python Environment Setup:\n",
        "\n",
        "1. **Install Python:**\n",
        "   - If you haven't installed Python yet, follow the instructions provided in the course material or use the official [Python website](https://www.python.org/) to download and install Python.\n",
        "\n",
        "2. **Package Installation:**\n",
        "   - Open your command prompt or terminal.\n",
        "   - Run the following command to install necessary packages:\n",
        "     ```bash\n",
        "     pip install scipy tensorflow scikit-learn numpy pandas matplotlib keras statsmodels\n",
        "     ```\n",
        "   - Alternatively, you can install each package individually if needed.\n",
        "\n",
        "## R Environment Setup:\n",
        "\n",
        "1. **Install R:**\n",
        "   - If R is not installed on your machine, you can download it from the [official R website](https://cran.r-project.org/) and follow the installation instructions.\n",
        "\n",
        "2. **Package Installation:**\n",
        "   - Open your R console or RStudio.\n",
        "   - Install the required packages using the following commands:\n",
        "     ```R\n",
        "     install.packages(c(\"tidyverse\", \"caret\", \"ggplot2\", \"keras\", \"MASS\"))\n",
        "     ```\n",
        "   - Adjust the package list as per your course requirements.\n",
        "\n",
        "## Using Google Colab:\n",
        "\n",
        "If you prefer an online environment, you can use Google Colab, which supports both Python and R. Here's how you can switch between R and Python in Google Colab:\n",
        "\n",
        "### Change Runtime to R:\n",
        "1. Open a new Colab notebook.\n",
        "2. Go to \"Runtime\" in the menu.\n",
        "3. Select \"Change runtime type.\"\n",
        "4. Choose \"R\" from the dropdown list.\n",
        "5. Click \"Save.\"\n",
        "\n",
        "### Change Runtime to Python:\n",
        "1. Open a new Colab notebook.\n",
        "2. Go to \"Runtime\" in the menu.\n",
        "3. Select \"Change runtime type.\"\n",
        "4. Choose \"Python\" from the dropdown list.\n",
        "5. Click \"Save.\"\n",
        "\n",
        "Feel free to reach out if you encounter any issues during the setup process. You can contact me through:\n",
        "\n",
        "- Telegram: [@SYS12321](https://t.me/SYS12321)\n",
        "- Email: [yamenmohamad@gmail.com](mailto:yamenmohamad@gmail.com)\n",
        "\n",
        "Now you are all set to start your journey with Python and R for this course. Happy learning!\n"
      ],
      "metadata": {
        "id": "be0xuK_0A_O4"
      }
    },
    {
      "cell_type": "markdown",
      "source": [
        "#Running sklearn package in R\n",
        "\n",
        "Convert the Colab environment to an R environment at first"
      ],
      "metadata": {
        "id": "2f52purT9DX2"
      }
    },
    {
      "cell_type": "code",
      "source": [
        "#reticulate::py_install(\"scikit-learn\")\n",
        "# you must install python and sklearn\n",
        "install.packages(\"reticulate\")"
      ],
      "metadata": {
        "id": "uhoIDHHR6DaF",
        "colab": {
          "base_uri": "https://localhost:8080/"
        },
        "outputId": "8525d3c6-de2e-46e6-ca77-281c16920440"
      },
      "execution_count": null,
      "outputs": [
        {
          "output_type": "stream",
          "name": "stderr",
          "text": [
            "Installing package into ‘/usr/local/lib/R/site-library’\n",
            "(as ‘lib’ is unspecified)\n",
            "\n",
            "also installing the dependencies ‘Rcpp’, ‘RcppTOML’, ‘here’, ‘png’\n",
            "\n",
            "\n"
          ]
        }
      ]
    },
    {
      "cell_type": "code",
      "source": [
        "library(reticulate)\n",
        "sklearn <- import(\"sklearn\")\n",
        "model <- sklearn$linear_model$LinearRegression()"
      ],
      "metadata": {
        "id": "DCEro4V457-I"
      },
      "execution_count": null,
      "outputs": []
    },
    {
      "cell_type": "code",
      "source": [
        "library(reticulate)\n",
        "sklearn <- import(\"sklearn\")\n",
        "set.seed(123)\n",
        "data <- matrix(rnorm(100), ncol = 2)\n",
        "data_py <- r_to_py(data)\n",
        "kmeans <- sklearn$cluster$KMeans(n_clusters = as.integer(3), random_state = as.integer(32))\n",
        "kmeans$fit(data_py)\n",
        "labels <- kmeans$labels_\n",
        "# Visualize the results\n",
        "plot(data, col = labels + 1, pch = 19, main = \"K-means Clustering\")\n",
        "points(kmeans$cluster_centers_, col = 1:3, pch = 3, cex = 2)"
      ],
      "metadata": {
        "colab": {
          "base_uri": "https://localhost:8080/",
          "height": 455
        },
        "id": "7qy4ZT_06FGK",
        "outputId": "17af7816-633d-45d3-fa43-3cc232534ce8"
      },
      "execution_count": null,
      "outputs": [
        {
          "output_type": "display_data",
          "data": {
            "text/plain": [
              "KMeans(n_clusters=3, random_state=32)"
            ]
          },
          "metadata": {}
        },
        {
          "output_type": "display_data",
          "data": {
            "text/plain": [
              "Plot with title “K-means Clustering”"
            ],
            "image/png": "[encoded data removed]"
          },
          "metadata": {
            "image/png": {
              "width": 420,
              "height": 420
            }
          }
        }
      ]
    },
    {
      "cell_type": "code",
      "source": [
        "sklearn <- import(\"sklearn.preprocessing\")\n",
        "data <- matrix(c(1, 2, 3, 4, 5), ncol = 1)\n",
        "scaler <- sklearn$MinMaxScaler()\n",
        "scaled_data <- scaler$fit_transform(data)\n",
        "print(scaled_data)"
      ],
      "metadata": {
        "colab": {
          "base_uri": "https://localhost:8080/"
        },
        "id": "IWApOeBQ6xME",
        "outputId": "c048eff7-58bd-46e9-e481-ec6f39298d3f"
      },
      "execution_count": null,
      "outputs": [
        {
          "output_type": "stream",
          "name": "stdout",
          "text": [
            "     [,1]\n",
            "[1,] 0.00\n",
            "[2,] 0.25\n",
            "[3,] 0.50\n",
            "[4,] 0.75\n",
            "[5,] 1.00\n"
          ]
        }
      ]
    },
    {
      "cell_type": "code",
      "source": [
        "sklearn <- import(\"sklearn.preprocessing\")\n",
        "data <- matrix(c(1, 2, 3, 4, 5), ncol = 1)\n",
        "scaler <- sklearn$StandardScaler()\n",
        "scaled_data <- scaler$fit_transform(data)\n",
        "print(scaled_data)"
      ],
      "metadata": {
        "colab": {
          "base_uri": "https://localhost:8080/"
        },
        "id": "7JFP0Unc7w1y",
        "outputId": "eb8ce029-d008-4bf9-a7ef-7dbb7b328686"
      },
      "execution_count": null,
      "outputs": [
        {
          "output_type": "stream",
          "name": "stdout",
          "text": [
            "           [,1]\n",
            "[1,] -1.4142136\n",
            "[2,] -0.7071068\n",
            "[3,]  0.0000000\n",
            "[4,]  0.7071068\n",
            "[5,]  1.4142136\n"
          ]
        }
      ]
    },
    {
      "cell_type": "code",
      "source": [
        "sklearn <- import(\"sklearn.preprocessing\")\n",
        "data <- matrix(1:25, ncol = 5)\n",
        "scaler <- sklearn$StandardScaler()\n",
        "scaled_data <- scaler$fit_transform(data)\n",
        "print(scaled_data)"
      ],
      "metadata": {
        "colab": {
          "base_uri": "https://localhost:8080/"
        },
        "id": "SGOpwgZM8vhh",
        "outputId": "394b0656-1a91-4015-edbd-a35096b1d1a4"
      },
      "execution_count": null,
      "outputs": [
        {
          "output_type": "stream",
          "name": "stdout",
          "text": [
            "           [,1]       [,2]       [,3]       [,4]       [,5]\n",
            "[1,] -1.4142136 -1.4142136 -1.4142136 -1.4142136 -1.4142136\n",
            "[2,] -0.7071068 -0.7071068 -0.7071068 -0.7071068 -0.7071068\n",
            "[3,]  0.0000000  0.0000000  0.0000000  0.0000000  0.0000000\n",
            "[4,]  0.7071068  0.7071068  0.7071068  0.7071068  0.7071068\n",
            "[5,]  1.4142136  1.4142136  1.4142136  1.4142136  1.4142136\n"
          ]
        }
      ]
    }
  ]
}